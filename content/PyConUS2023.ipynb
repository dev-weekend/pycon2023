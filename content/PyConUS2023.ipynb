{
 "cells": [
  {
   "cell_type": "markdown",
   "metadata": {
    "tags": []
   },
   "source": [
    "# @theonewolf ([Twitter](https://twitter.com/theonewolf/), [GitHub](https://github.com/theonewolf), [LinkedIn](www.linkedin.com/in/theonewolf))\n",
    "\n",
    "---\n",
    "\n",
    "![Weekend.Dev Logo](https://weekend.dev/wp-content/uploads/2022/08/logo-weekendev.svg)\n",
    "\n",
    "---\n",
    "\n",
    "- Teach to people of all backgrounds.  Software engineers, students, professionals, researchers, retirees, etc.\n",
    "- Upskill one weekend at a time\n",
    "- Saturday is Python, Sunday is Data Science\n",
    "- Impossible to teach quickly without Pyodide and JupyterLite.\n",
    "\n",
    "\n",
    "4 Lecture topics (8 hours)\n",
    "\n",
    "- Basic Python\n",
    "- Advanced Python and Software Engineering\n",
    "- Basics of Data Science\n",
    "- Advanced Data Science and Basics of Machine Learning\n",
    "\n",
    "8 Hands-on Projects (8 hours)\n",
    "\n",
    "- CDC COVID-19 in Pure Python\n",
    "- CDC COVID-19 with Pandas\n",
    "- NoSQL Microservice API in Python\n",
    "- Python C Extensions\n",
    "- Federal Election Committee Data Analysis\n",
    "- USDA Food Database Data Analysis\n",
    "- USA.gov Web Traffic Data Analysis\n",
    "- US Baby Names Data Analysis"
   ]
  },
  {
   "cell_type": "markdown",
   "metadata": {},
   "source": [
    "# [Warmup] Print the numbers from 1 to 10"
   ]
  },
  {
   "cell_type": "code",
   "execution_count": null,
   "metadata": {},
   "outputs": [],
   "source": []
  },
  {
   "cell_type": "markdown",
   "metadata": {},
   "source": [
    "# [Warmup] Write a function that takes two numbers as input and returns their sum"
   ]
  },
  {
   "cell_type": "code",
   "execution_count": null,
   "metadata": {},
   "outputs": [],
   "source": []
  },
  {
   "cell_type": "code",
   "execution_count": null,
   "metadata": {},
   "outputs": [],
   "source": []
  },
  {
   "cell_type": "markdown",
   "metadata": {},
   "source": [
    "# [Intermediate] Download a Dataset and Load into a Dataframe\n",
    "\n",
    "URL: https://raw.githubusercontent.com/Opensourcefordatascience/Data-sets/master/crop_yield.csv"
   ]
  },
  {
   "cell_type": "code",
   "execution_count": null,
   "metadata": {},
   "outputs": [],
   "source": [
    "from pyodide.http import open_url\n",
    "import pandas as pd\n",
    "\n",
    "# Hint: Pandas (pd) has a function called read_csv and open_url returns a file-like object.\n"
   ]
  },
  {
   "cell_type": "markdown",
   "metadata": {},
   "source": [
    "# [Hard] Spot the bug\n",
    "\n",
    "1. What is wrong with this function?\n",
    "2. Fix it!"
   ]
  },
  {
   "cell_type": "code",
   "execution_count": null,
   "metadata": {},
   "outputs": [],
   "source": [
    "def factorial(n):\n",
    "    if n == 0:\n",
    "        return 1\n",
    "    else:\n",
    "        return n * factorial(n - 1)"
   ]
  },
  {
   "cell_type": "code",
   "execution_count": null,
   "metadata": {},
   "outputs": [],
   "source": []
  },
  {
   "cell_type": "markdown",
   "metadata": {},
   "source": [
    "# Freestyle!  Go crazy! But don't DoS!"
   ]
  },
  {
   "cell_type": "code",
   "execution_count": null,
   "metadata": {},
   "outputs": [],
   "source": []
  }
 ],
 "metadata": {
  "kernelspec": {
   "display_name": "Python (Pyodide)",
   "language": "python",
   "name": "python"
  },
  "language_info": {
   "codemirror_mode": {
    "name": "python",
    "version": 3
   },
   "file_extension": ".py",
   "mimetype": "text/x-python",
   "name": "python",
   "nbconvert_exporter": "python",
   "pygments_lexer": "ipython3",
   "version": "3.8"
  }
 },
 "nbformat": 4,
 "nbformat_minor": 4
}
